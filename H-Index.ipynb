{
 "cells": [
  {
   "cell_type": "code",
   "execution_count": 2,
   "id": "558e02f4",
   "metadata": {},
   "outputs": [
    {
     "data": {
      "text/html": [
       "<div>\n",
       "<style scoped>\n",
       "    .dataframe tbody tr th:only-of-type {\n",
       "        vertical-align: middle;\n",
       "    }\n",
       "\n",
       "    .dataframe tbody tr th {\n",
       "        vertical-align: top;\n",
       "    }\n",
       "\n",
       "    .dataframe thead th {\n",
       "        text-align: right;\n",
       "    }\n",
       "</style>\n",
       "<table border=\"1\" class=\"dataframe\">\n",
       "  <thead>\n",
       "    <tr style=\"text-align: right;\">\n",
       "      <th></th>\n",
       "      <th>Authors</th>\n",
       "      <th>Author full names</th>\n",
       "      <th>Author(s) ID</th>\n",
       "      <th>Title</th>\n",
       "      <th>Year</th>\n",
       "      <th>Source title</th>\n",
       "      <th>Volume</th>\n",
       "      <th>Issue</th>\n",
       "      <th>Art. No.</th>\n",
       "      <th>Page start</th>\n",
       "      <th>Page end</th>\n",
       "      <th>Page count</th>\n",
       "      <th>Cited by</th>\n",
       "      <th>DOI</th>\n",
       "      <th>Link</th>\n",
       "      <th>Document Type</th>\n",
       "      <th>Publication Stage</th>\n",
       "      <th>Open Access</th>\n",
       "      <th>Source</th>\n",
       "      <th>EID</th>\n",
       "    </tr>\n",
       "  </thead>\n",
       "  <tbody>\n",
       "    <tr>\n",
       "      <th>0</th>\n",
       "      <td>Pandey A.; Subedi S.P.</td>\n",
       "      <td>Pandey, Amrisha (57195808234); Subedi, Surya P...</td>\n",
       "      <td>57195808234; 6602468552</td>\n",
       "      <td>Changing notions of sovereignty and governance...</td>\n",
       "      <td>2019</td>\n",
       "      <td>Journal of Water Law</td>\n",
       "      <td>26</td>\n",
       "      <td>4.0</td>\n",
       "      <td>NaN</td>\n",
       "      <td>167</td>\n",
       "      <td>181</td>\n",
       "      <td>14</td>\n",
       "      <td>0</td>\n",
       "      <td>NaN</td>\n",
       "      <td>https://www.scopus.com/inward/record.uri?eid=2...</td>\n",
       "      <td>Article</td>\n",
       "      <td>Final</td>\n",
       "      <td>NaN</td>\n",
       "      <td>Scopus</td>\n",
       "      <td>2-s2.0-85095851765</td>\n",
       "    </tr>\n",
       "    <tr>\n",
       "      <th>1</th>\n",
       "      <td>Subedi S.P.; Pandey A.</td>\n",
       "      <td>Subedi, Surya P. (6602468552); Pandey, Amrisha...</td>\n",
       "      <td>6602468552; 57195808234</td>\n",
       "      <td>Legal Lamination to Transboundary Movement of ...</td>\n",
       "      <td>2022</td>\n",
       "      <td>Environmental Policy and Law</td>\n",
       "      <td>52</td>\n",
       "      <td>2.0</td>\n",
       "      <td>NaN</td>\n",
       "      <td>133</td>\n",
       "      <td>143</td>\n",
       "      <td>10</td>\n",
       "      <td>0</td>\n",
       "      <td>10.3233/EPL-219025</td>\n",
       "      <td>https://www.scopus.com/inward/record.uri?eid=2...</td>\n",
       "      <td>Conference paper</td>\n",
       "      <td>Final</td>\n",
       "      <td>All Open Access; Green Open Access</td>\n",
       "      <td>Scopus</td>\n",
       "      <td>2-s2.0-85130486687</td>\n",
       "    </tr>\n",
       "    <tr>\n",
       "      <th>2</th>\n",
       "      <td>Pandey A.</td>\n",
       "      <td>Pandey, Amrisha (57195808234)</td>\n",
       "      <td>57195808234</td>\n",
       "      <td>Discussing the 'human right to water in India'...</td>\n",
       "      <td>2017</td>\n",
       "      <td>WIT Transactions on Ecology and the Environment</td>\n",
       "      <td>216</td>\n",
       "      <td>NaN</td>\n",
       "      <td>NaN</td>\n",
       "      <td>37</td>\n",
       "      <td>47</td>\n",
       "      <td>10</td>\n",
       "      <td>1</td>\n",
       "      <td>10.2495/WS170041</td>\n",
       "      <td>https://www.scopus.com/inward/record.uri?eid=2...</td>\n",
       "      <td>Article</td>\n",
       "      <td>Final</td>\n",
       "      <td>All Open Access; Bronze Open Access</td>\n",
       "      <td>Scopus</td>\n",
       "      <td>2-s2.0-85029859049</td>\n",
       "    </tr>\n",
       "  </tbody>\n",
       "</table>\n",
       "</div>"
      ],
      "text/plain": [
       "                  Authors                                  Author full names  \\\n",
       "0  Pandey A.; Subedi S.P.  Pandey, Amrisha (57195808234); Subedi, Surya P...   \n",
       "1  Subedi S.P.; Pandey A.  Subedi, Surya P. (6602468552); Pandey, Amrisha...   \n",
       "2               Pandey A.                      Pandey, Amrisha (57195808234)   \n",
       "\n",
       "              Author(s) ID                                              Title  \\\n",
       "0  57195808234; 6602468552  Changing notions of sovereignty and governance...   \n",
       "1  6602468552; 57195808234  Legal Lamination to Transboundary Movement of ...   \n",
       "2              57195808234  Discussing the 'human right to water in India'...   \n",
       "\n",
       "   Year                                     Source title  Volume  Issue  \\\n",
       "0  2019                             Journal of Water Law      26    4.0   \n",
       "1  2022                     Environmental Policy and Law      52    2.0   \n",
       "2  2017  WIT Transactions on Ecology and the Environment     216    NaN   \n",
       "\n",
       "   Art. No.  Page start  Page end  Page count  Cited by                 DOI  \\\n",
       "0       NaN         167       181          14         0                 NaN   \n",
       "1       NaN         133       143          10         0  10.3233/EPL-219025   \n",
       "2       NaN          37        47          10         1    10.2495/WS170041   \n",
       "\n",
       "                                                Link     Document Type  \\\n",
       "0  https://www.scopus.com/inward/record.uri?eid=2...           Article   \n",
       "1  https://www.scopus.com/inward/record.uri?eid=2...  Conference paper   \n",
       "2  https://www.scopus.com/inward/record.uri?eid=2...           Article   \n",
       "\n",
       "  Publication Stage                          Open Access  Source  \\\n",
       "0             Final                                  NaN  Scopus   \n",
       "1             Final   All Open Access; Green Open Access  Scopus   \n",
       "2             Final  All Open Access; Bronze Open Access  Scopus   \n",
       "\n",
       "                  EID  \n",
       "0  2-s2.0-85095851765  \n",
       "1  2-s2.0-85130486687  \n",
       "2  2-s2.0-85029859049  "
      ]
     },
     "execution_count": 2,
     "metadata": {},
     "output_type": "execute_result"
    }
   ],
   "source": [
    "import pandas as pd\n",
    "import numpy as np\n",
    "\n",
    "# Load the CSV file into a DataFrame\n",
    "hf=pd.read_csv('C:/Users/ksrad/Downloads/Dr Amrisha Pandey.csv')\n",
    "hf"
   ]
  },
  {
   "cell_type": "code",
   "execution_count": 3,
   "id": "c96cb616",
   "metadata": {},
   "outputs": [],
   "source": [
    "FIN=hf.drop(['Authors','Author(s) ID','Volume','Issue','Art. No.','Page start','Page end','Page count','DOI','Link','Document Type','Publication Stage','Open Access','Source','EID'],axis=1)"
   ]
  },
  {
   "cell_type": "code",
   "execution_count": 4,
   "id": "f45ba2ec",
   "metadata": {},
   "outputs": [],
   "source": [
    "FIN.rename(columns = {'Cited by':'citations'}, inplace = True)\n",
    "FIN['citations'].replace(np.nan, 0, inplace=True)"
   ]
  },
  {
   "cell_type": "code",
   "execution_count": 5,
   "id": "4f2ecbc2",
   "metadata": {
    "scrolled": true
   },
   "outputs": [
    {
     "data": {
      "text/html": [
       "<div>\n",
       "<style scoped>\n",
       "    .dataframe tbody tr th:only-of-type {\n",
       "        vertical-align: middle;\n",
       "    }\n",
       "\n",
       "    .dataframe tbody tr th {\n",
       "        vertical-align: top;\n",
       "    }\n",
       "\n",
       "    .dataframe thead th {\n",
       "        text-align: right;\n",
       "    }\n",
       "</style>\n",
       "<table border=\"1\" class=\"dataframe\">\n",
       "  <thead>\n",
       "    <tr style=\"text-align: right;\">\n",
       "      <th></th>\n",
       "      <th>Author full names</th>\n",
       "      <th>Title</th>\n",
       "      <th>Year</th>\n",
       "      <th>Source title</th>\n",
       "      <th>citations</th>\n",
       "    </tr>\n",
       "  </thead>\n",
       "  <tbody>\n",
       "    <tr>\n",
       "      <th>0</th>\n",
       "      <td>Pandey, Amrisha (57195808234); Subedi, Surya P...</td>\n",
       "      <td>Changing notions of sovereignty and governance...</td>\n",
       "      <td>2019</td>\n",
       "      <td>Journal of Water Law</td>\n",
       "      <td>0</td>\n",
       "    </tr>\n",
       "    <tr>\n",
       "      <th>1</th>\n",
       "      <td>Subedi, Surya P. (6602468552); Pandey, Amrisha...</td>\n",
       "      <td>Legal Lamination to Transboundary Movement of ...</td>\n",
       "      <td>2022</td>\n",
       "      <td>Environmental Policy and Law</td>\n",
       "      <td>0</td>\n",
       "    </tr>\n",
       "    <tr>\n",
       "      <th>2</th>\n",
       "      <td>Pandey, Amrisha (57195808234)</td>\n",
       "      <td>Discussing the 'human right to water in India'...</td>\n",
       "      <td>2017</td>\n",
       "      <td>WIT Transactions on Ecology and the Environment</td>\n",
       "      <td>1</td>\n",
       "    </tr>\n",
       "  </tbody>\n",
       "</table>\n",
       "</div>"
      ],
      "text/plain": [
       "                                   Author full names  \\\n",
       "0  Pandey, Amrisha (57195808234); Subedi, Surya P...   \n",
       "1  Subedi, Surya P. (6602468552); Pandey, Amrisha...   \n",
       "2                      Pandey, Amrisha (57195808234)   \n",
       "\n",
       "                                               Title  Year  \\\n",
       "0  Changing notions of sovereignty and governance...  2019   \n",
       "1  Legal Lamination to Transboundary Movement of ...  2022   \n",
       "2  Discussing the 'human right to water in India'...  2017   \n",
       "\n",
       "                                      Source title  citations  \n",
       "0                             Journal of Water Law          0  \n",
       "1                     Environmental Policy and Law          0  \n",
       "2  WIT Transactions on Ecology and the Environment          1  "
      ]
     },
     "execution_count": 5,
     "metadata": {},
     "output_type": "execute_result"
    }
   ],
   "source": [
    "FIN"
   ]
  },
  {
   "cell_type": "code",
   "execution_count": 6,
   "id": "b8bdc9ec",
   "metadata": {},
   "outputs": [
    {
     "name": "stdout",
     "output_type": "stream",
     "text": [
      "[0, 0, 1]\n"
     ]
    }
   ],
   "source": [
    "citations = FIN.citations.values.tolist()\n",
    "print(citations)"
   ]
  },
  {
   "cell_type": "code",
   "execution_count": 7,
   "id": "b50a31ce",
   "metadata": {},
   "outputs": [],
   "source": [
    "class Solution:\n",
    "    def hIndex(self, citations: list[int]) -> int:\n",
    "        citations.sort(reverse=True)\n",
    "        \n",
    "        for indx, citation in enumerate(citations):\n",
    "            if indx >= citation:\n",
    "                return indx\n",
    "        return len(citations)"
   ]
  },
  {
   "cell_type": "code",
   "execution_count": 8,
   "id": "aa168a32",
   "metadata": {
    "scrolled": true
   },
   "outputs": [
    {
     "name": "stdout",
     "output_type": "stream",
     "text": [
      "H-index: 1\n"
     ]
    }
   ],
   "source": [
    "solution = Solution()\n",
    "h_index = solution.hIndex(citations)\n",
    "print(\"H-index:\", h_index)\n"
   ]
  },
  {
   "cell_type": "code",
   "execution_count": null,
   "id": "b134c8c5",
   "metadata": {},
   "outputs": [],
   "source": []
  },
  {
   "cell_type": "code",
   "execution_count": null,
   "id": "4c8d91b6",
   "metadata": {},
   "outputs": [],
   "source": []
  },
  {
   "cell_type": "code",
   "execution_count": null,
   "id": "7c6d4246",
   "metadata": {},
   "outputs": [],
   "source": []
  },
  {
   "cell_type": "code",
   "execution_count": null,
   "id": "e011274b",
   "metadata": {},
   "outputs": [],
   "source": []
  },
  {
   "cell_type": "code",
   "execution_count": null,
   "id": "b11fe8f1",
   "metadata": {},
   "outputs": [],
   "source": [
    "\n"
   ]
  },
  {
   "cell_type": "code",
   "execution_count": null,
   "id": "7ebf318a",
   "metadata": {},
   "outputs": [],
   "source": []
  }
 ],
 "metadata": {
  "kernelspec": {
   "display_name": "Python 3 (ipykernel)",
   "language": "python",
   "name": "python3"
  },
  "language_info": {
   "codemirror_mode": {
    "name": "ipython",
    "version": 3
   },
   "file_extension": ".py",
   "mimetype": "text/x-python",
   "name": "python",
   "nbconvert_exporter": "python",
   "pygments_lexer": "ipython3",
   "version": "3.9.12"
  }
 },
 "nbformat": 4,
 "nbformat_minor": 5
}
